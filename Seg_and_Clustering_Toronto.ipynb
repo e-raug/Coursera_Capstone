{
 "cells": [
  {
   "cell_type": "markdown",
   "metadata": {},
   "source": [
    "### Importing modules, downloading data and applying regex on it"
   ]
  },
  {
   "cell_type": "code",
   "execution_count": 20,
   "metadata": {},
   "outputs": [],
   "source": [
    "import requests, re\n",
    "import pandas as pd\n",
    "\n",
    "response = requests.get(\"https://en.wikipedia.org/wiki/List_of_postal_codes_of_Canada:_M\").text\n",
    "save = re.findall(\"<td>(.*?)\\n*</td>\", response)"
   ]
  },
  {
   "cell_type": "markdown",
   "metadata": {},
   "source": [
    "### Colecting the data from regex above and saving it (in a dict and in a list)"
   ]
  },
  {
   "cell_type": "code",
   "execution_count": 21,
   "metadata": {},
   "outputs": [],
   "source": [
    "i = 0\n",
    "postcodes = {}\n",
    "post_lines = []\n",
    "p = re.compile(\"^\\w\\d\\w$\")\n",
    "for line in save:\n",
    "    if p.search (line) != None:\n",
    "        postcodes[i] = []\n",
    "        i_old = i\n",
    "        i+=1\n",
    "        post_lines.append(line)\n",
    "    elif \"title\" in line:\n",
    "        postcodes[i_old].append(re.findall('>(.*?)<', line)[0])\n",
    "    elif i != i_old:\n",
    "        postcodes[i_old].append(line)\n"
   ]
  },
  {
   "cell_type": "markdown",
   "metadata": {},
   "source": [
    "### Deleting rows with \"Not assigned\" on it."
   ]
  },
  {
   "cell_type": "code",
   "execution_count": 22,
   "metadata": {},
   "outputs": [],
   "source": [
    "borough_neigh = []\n",
    "for i in range(len(postcodes)):\n",
    "    borough_neigh.append(postcodes[i])\n",
    "\n",
    "PostalCode = []\n",
    "Borough = []\n",
    "Neigh = []\n",
    "\n",
    "for i in range(len(borough_neigh)):\n",
    "    if \"Not assigned\" not in borough_neigh[i]:\n",
    "        Borough.append(borough_neigh[i][0])\n",
    "        Neigh.append(borough_neigh[i][1:])\n",
    "        PostalCode.append(post_lines[i])"
   ]
  },
  {
   "cell_type": "markdown",
   "metadata": {},
   "source": [
    "### Creating a dictionary that will be used for the final creation of the three columns of the dataframe"
   ]
  },
  {
   "cell_type": "code",
   "execution_count": 23,
   "metadata": {},
   "outputs": [],
   "source": [
    "dict_p = {}\n",
    "for i in range(len(PostalCode)):\n",
    "    dict_p[PostalCode[i]] = []\n",
    "\n",
    "for i in range(len(PostalCode)):\n",
    "    if Borough[i] not in dict_p[PostalCode[i]]:\n",
    "        dict_p[PostalCode[i]].append(Borough[i])\n",
    "    dict_p[PostalCode[i]].append(Neigh[i])"
   ]
  },
  {
   "cell_type": "markdown",
   "metadata": {},
   "source": [
    "### Creating the three columns"
   ]
  },
  {
   "cell_type": "code",
   "execution_count": 24,
   "metadata": {},
   "outputs": [],
   "source": [
    "Final_Postal_Code = []\n",
    "Final_Borough = []\n",
    "Neigh = []\n",
    "\n",
    "for i in dict_p:\n",
    "    Final_Postal_Code.append(i)\n",
    "    Final_Borough.append(dict_p[i][0])\n",
    "    Neigh.append(dict_p[i][1:])"
   ]
  },
  {
   "cell_type": "markdown",
   "metadata": {},
   "source": [
    "### Converting data in column Neighborhood to be separated with commas"
   ]
  },
  {
   "cell_type": "code",
   "execution_count": 25,
   "metadata": {},
   "outputs": [],
   "source": [
    "Final_Neighborhood = []\n",
    "\n",
    "final_str = \"\"\n",
    "for i in range(len(Neigh)):\n",
    "    for j in Neigh[i]:\n",
    "        final_str += j[0]+\", \"\n",
    "\n",
    "    Final_Neighborhood.append(final_str[:-2])\n",
    "    final_str = \"\""
   ]
  },
  {
   "cell_type": "markdown",
   "metadata": {},
   "source": [
    "### Create the dataframe as required in the lab"
   ]
  },
  {
   "cell_type": "code",
   "execution_count": 26,
   "metadata": {},
   "outputs": [],
   "source": [
    "dict_to_dataframe = {'PostalCode': Final_Postal_Code, 'Borough': Final_Borough, 'Neighborhood': Final_Neighborhood}\n",
    "df = pd.DataFrame(dict_to_dataframe)"
   ]
  },
  {
   "cell_type": "markdown",
   "metadata": {},
   "source": [
    "### Showing the shape of the dataframe"
   ]
  },
  {
   "cell_type": "code",
   "execution_count": 27,
   "metadata": {},
   "outputs": [
    {
     "data": {
      "text/plain": [
       "(103, 3)"
      ]
     },
     "execution_count": 27,
     "metadata": {},
     "output_type": "execute_result"
    }
   ],
   "source": [
    "df.shape"
   ]
  }
 ],
 "metadata": {
  "kernelspec": {
   "display_name": "Python 3.6",
   "language": "python",
   "name": "python3"
  },
  "language_info": {
   "codemirror_mode": {
    "name": "ipython",
    "version": 3
   },
   "file_extension": ".py",
   "mimetype": "text/x-python",
   "name": "python",
   "nbconvert_exporter": "python",
   "pygments_lexer": "ipython3",
   "version": "3.6.9"
  }
 },
 "nbformat": 4,
 "nbformat_minor": 1
}
